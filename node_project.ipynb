{
 "cells": [
  {
   "cell_type": "code",
   "execution_count": 1,
   "id": "a38903df",
   "metadata": {},
   "outputs": [
    {
     "data": {
      "text/plain": [
       "'010-13579-#####'"
      ]
     },
     "execution_count": 1,
     "metadata": {},
     "output_type": "execute_result"
    }
   ],
   "source": [
    "# 전화번호가 들어왔을 때 뒷자리 숫자 5개를 #####으로 바꾸는 프로그램\n",
    "def change_num(nums):\n",
    "    answer = nums.replace(nums[-5:], '#####')\n",
    "    return answer\n",
    "\n",
    "change_num('010-13579-24688')\n",
    "\n",
    "# numbers.replace(numbers[-5:], '#####')\n",
    "# 왜안되!"
   ]
  },
  {
   "cell_type": "code",
   "execution_count": 1,
   "id": "02c94f29",
   "metadata": {},
   "outputs": [
    {
     "data": {
      "text/plain": [
       "[1, 2, 3, 4, 5, 6, 7, 8, 9]"
      ]
     },
     "execution_count": 1,
     "metadata": {},
     "output_type": "execute_result"
    }
   ],
   "source": [
    "# 리스트 평탄화\n",
    "\n",
    "'''\n",
    "내가 생각한 답\n",
    "def flatten(data):\n",
    "    output = []\n",
    "    for i in data:\n",
    "        if type(data[i]) != True:\n",
    "            output.append(data[i])\n",
    "            i += 1\n",
    "        else:\n",
    "            if type(data[i][i]) != True:\n",
    "                output.append(data[i][i])\n",
    "    return output\n",
    "\n",
    "a = [[1, 2], 3, [[4, 5, 6], 7], 8, 9]\n",
    "flatten(a)\n",
    "'''\n",
    "\n",
    "\n",
    "# type(a[0])\n",
    "\n",
    "'''\n",
    "def hello(count):\n",
    "    if count == 0:  # 종료 조건\n",
    "        return      # if문이 참이면 그대로 끝\n",
    "    \n",
    "    print('Hello, world!',  count)\n",
    "    count -= 1\n",
    "    hello(count)\n",
    "\n",
    "hello(3)\n",
    "'''\n",
    "\n",
    "\n",
    "\n",
    "'''\n",
    "overlap = [[1, 2], 3, [[4, 5, 6], 7], 8, 9]\n",
    "\n",
    "for element in overlap:\n",
    "    print(element)\n",
    "'''\n",
    "\n",
    "def flatten(data):\n",
    "    output = [] # 1. 빈 리스트를 만든다.\n",
    "    for item in data: # 2. 반복문을 사용한다.\n",
    "        if type(item) == list: # 3. 리스트인 요소는\n",
    "            output += flatten(item) # 4. 재귀적 탐색\n",
    "        else: # 5. 리스트가 아닐 때\n",
    "            output.append(item) # 6. 빈 리스트에 요소를 더해준다.\n",
    "    return output\n",
    "\n",
    "a = [[1, 2], 3, 4, 5, [6, 7, [8, 9]]]\n",
    "flatten(a)\n"
   ]
  },
  {
   "cell_type": "code",
   "execution_count": 8,
   "id": "9d05cdd2",
   "metadata": {},
   "outputs": [
    {
     "data": {
      "text/plain": [
       "4320"
      ]
     },
     "execution_count": 8,
     "metadata": {},
     "output_type": "execute_result"
    }
   ],
   "source": [
    "# 10이하 숫자만 곱해주는 함수\n",
    "\n",
    "'''\n",
    "def int_divider(x, y):\n",
    "    if x % 1 == 0 and y % 1 == 0:\n",
    "        answer = x / y\n",
    "    else:\n",
    "        answer = None\n",
    "    return answer\n",
    "\n",
    "int_divider(10, 5)\n",
    "'''\n",
    "\n",
    "def mul(*values):\n",
    "    output = 1\n",
    "    for num in values:\n",
    "        if num <= 10:\n",
    "            output *= num\n",
    "        else:\n",
    "            pass\n",
    "    return output\n",
    "\n",
    "mul(10, 9, 8, 100, 17, 6)"
   ]
  },
  {
   "cell_type": "code",
   "execution_count": null,
   "id": "b2c8a338",
   "metadata": {},
   "outputs": [],
   "source": []
  }
 ],
 "metadata": {
  "kernelspec": {
   "display_name": "Python 3 (ipykernel)",
   "language": "python",
   "name": "python3"
  },
  "language_info": {
   "codemirror_mode": {
    "name": "ipython",
    "version": 3
   },
   "file_extension": ".py",
   "mimetype": "text/x-python",
   "name": "python",
   "nbconvert_exporter": "python",
   "pygments_lexer": "ipython3",
   "version": "3.9.7"
  }
 },
 "nbformat": 4,
 "nbformat_minor": 5
}
